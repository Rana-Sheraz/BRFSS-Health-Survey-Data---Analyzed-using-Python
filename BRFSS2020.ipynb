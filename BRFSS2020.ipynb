{
 "cells": [
  {
   "cell_type": "code",
   "execution_count": null,
   "id": "6656e375",
   "metadata": {},
   "outputs": [],
   "source": [
    "import pandas as pd\n",
    "import numpy as np\n",
    "import matplotlib.pyplot as plt\n",
    "import statsmodels.api as sm\n",
    "import seaborn as sns\n",
    "import scipy.stats as stats\n",
    "from scipy.stats import chi2_contingency\n",
    "import warnings\n",
    "warnings.filterwarnings('ignore')\n"
   ]
  },
  {
   "cell_type": "code",
   "execution_count": null,
   "id": "ecfee980",
   "metadata": {},
   "outputs": [],
   "source": [
    "pd.set_option('display.max_columns', None)\n",
    "da = pd.read_csv(\"brfss2020.csv\")"
   ]
  },
  {
   "cell_type": "code",
   "execution_count": null,
   "id": "fdce7e2a",
   "metadata": {},
   "outputs": [],
   "source": [
    "da.head()"
   ]
  },
  {
   "cell_type": "markdown",
   "id": "94dbdd15",
   "metadata": {},
   "source": [
    "## Preprocessing"
   ]
  },
  {
   "cell_type": "code",
   "execution_count": null,
   "id": "90843bfe",
   "metadata": {},
   "outputs": [],
   "source": [
    "# Columns to be retained\n",
    "columns_to_keep = [\n",
    "    \"_RFHLTH\",\"ADDEPEV3\" ,\"DECIDE\", \"POORHLTH\", \"HLTHPLN1\", \"PERSDOC2\", \n",
    "    \"MEDCOST\", \"CHECKUP1\", \"_TOTINDA\" , \"SLEPTIM1\", \"CVDINFR4\", \"CVDCRHD4\", \"CVDSTRK3\", \"_AGE80\",\n",
    "    \"_SMOKER3\", \"DIABETE4\", \"_DRDXAR2\",\"DIFFWALK\",\"_RFBMI5\", \"_SEX\", \"_CHLDCNT\", \"_EDUCAG\", \"_INCOMG\", \"DRNKANY5\", \"_MENT14D\",\"_PHYS14D\", \"_AGEG5YR\"\n",
    "]\n",
    "\n",
    "# Filter the dataset for rows where _STATE equals 53 and select the specified columns\n",
    "washington = da[da['_STATE'] == 53][columns_to_keep]\n"
   ]
  },
  {
   "cell_type": "code",
   "execution_count": null,
   "id": "f8333cf4",
   "metadata": {},
   "outputs": [],
   "source": [
    "washington = washington.rename(columns={\"_SEX\":\"Gender\", \"_RFBMI5\":\"Obesity\",\"ADDEPEV3\":\"Stress\",\"SLEPTIM1\":\"Sleep\",\"_DRDXAR2\":\"Arthritis\",\"Physical_InActivity\":\"Physical_Activity\",\"DIABETE4\":\"Diabetes\",\"_SMOKER3\":\"Smoking\",\"_AGE80\":\"Age\",\"_MENT14D\":\"Mental_Health\",\"_PHYS14D\":\"Physical_Health\",\"MARIJAN1\":\"Drugs\",\"DRNKANY5\":\"Alcohol_Consumption\",\"CVDCRHD4\":\"CHD\",\"CVDSTRK3\":\"Stroke\",\"CVDINFR4\":\"Heart_Attack\" })"
   ]
  },
  {
   "cell_type": "code",
   "execution_count": null,
   "id": "e9375b82",
   "metadata": {},
   "outputs": [],
   "source": [
    "washington\n",
    "\n"
   ]
  },
  {
   "cell_type": "code",
   "execution_count": null,
   "id": "772587ff",
   "metadata": {
    "scrolled": true
   },
   "outputs": [],
   "source": [
    "washington.corr()"
   ]
  },
  {
   "cell_type": "code",
   "execution_count": null,
   "id": "a58ef813",
   "metadata": {},
   "outputs": [],
   "source": [
    "washington.to_csv(\"Sliced_Data.csv\")"
   ]
  },
  {
   "cell_type": "markdown",
   "id": "325df1e0",
   "metadata": {},
   "source": [
    "## Exploratory Data Analysis"
   ]
  },
  {
   "cell_type": "code",
   "execution_count": null,
   "id": "4aca3a9b",
   "metadata": {},
   "outputs": [],
   "source": [
    "washington.info()"
   ]
  },
  {
   "cell_type": "code",
   "execution_count": null,
   "id": "2299fa6f",
   "metadata": {},
   "outputs": [],
   "source": [
    "washington.describe()"
   ]
  },
  {
   "cell_type": "code",
   "execution_count": null,
   "id": "6fdac5fe",
   "metadata": {
    "scrolled": true
   },
   "outputs": [],
   "source": [
    "correlation_matrix = washington.corr()\n",
    "\n",
    "# Plotting the correlation matrix\n",
    "plt.figure(figsize=(15, 8))\n",
    "sns.heatmap(correlation_matrix, annot=True, cmap='coolwarm', fmt=\".2f\")\n",
    "plt.title(\"Correlation Matrix of Risk Factors\")\n",
    "plt.show()"
   ]
  },
  {
   "cell_type": "markdown",
   "id": "f75731a8",
   "metadata": {},
   "source": [
    "**Gender: Male & 2:Female**"
   ]
  },
  {
   "cell_type": "code",
   "execution_count": null,
   "id": "ed31b0c3",
   "metadata": {},
   "outputs": [],
   "source": [
    "washington['Gender'].value_counts()\n",
    "sns.countplot(x='Gender', data=washington,palette=custom_palette)"
   ]
  },
  {
   "cell_type": "markdown",
   "id": "05d80732",
   "metadata": {},
   "source": [
    "**Variable : Age**"
   ]
  },
  {
   "cell_type": "code",
   "execution_count": null,
   "id": "9c4a39f5",
   "metadata": {},
   "outputs": [],
   "source": [
    "washington['Age'].value_counts()\n",
    "plt.figure(figsize=(12, 6))\n",
    "\n",
    "\n",
    "# Create the countplot\n",
    "sns.countplot(x='Age', data=washington, width=.9, palette=custom_palette)\n",
    "\n",
    "# Rotate x-axis labels for better readability\n",
    "plt.xticks(rotation=90)\n",
    "\n",
    "\n",
    "# Show the plot\n",
    "plt.show()\n",
    "\n"
   ]
  },
  {
   "cell_type": "code",
   "execution_count": null,
   "id": "243da5fb",
   "metadata": {},
   "outputs": [],
   "source": [
    "washington['Age'].value_counts()\n",
    "plt.figure(figsize=(12, 6))\n",
    "\n",
    "\n",
    "# Create the countplot\n",
    "sns.boxplot(x='Age', data=washington, width=.9)\n",
    "\n",
    "# Rotate x-axis labels for better readability\n",
    "plt.xticks(rotation=90)\n",
    "\n",
    "\n",
    "# Show the plot\n",
    "plt.show()\n",
    "\n"
   ]
  },
  {
   "cell_type": "code",
   "execution_count": null,
   "id": "6b06cd7d",
   "metadata": {},
   "outputs": [],
   "source": [
    "washington['Age'].mean()"
   ]
  },
  {
   "cell_type": "code",
   "execution_count": null,
   "id": "a1980c7d",
   "metadata": {},
   "outputs": [],
   "source": [
    "washington['Sleep'] = washington['Sleep'][(washington['Sleep'] != 77) & (washington['Sleep'] != 99)]"
   ]
  },
  {
   "cell_type": "code",
   "execution_count": null,
   "id": "0db8a72b",
   "metadata": {},
   "outputs": [],
   "source": [
    "washington['Sleep'].unique()"
   ]
  },
  {
   "cell_type": "markdown",
   "id": "26ba7a55",
   "metadata": {},
   "source": [
    "**Variable : Sleep**"
   ]
  },
  {
   "cell_type": "code",
   "execution_count": null,
   "id": "7dc688af",
   "metadata": {},
   "outputs": [],
   "source": [
    "print(washington['Sleep'].value_counts())\n",
    "plt.figure(figsize=(12, 6))\n",
    "sns.boxplot(x='_AGEG5YR', y='Sleep',data=washington)"
   ]
  },
  {
   "cell_type": "code",
   "execution_count": null,
   "id": "9500d02b",
   "metadata": {},
   "outputs": [],
   "source": [
    "print(washington['Sleep'].value_counts())\n",
    "plt.figure(figsize=(12, 6))\n",
    "sns.boxplot(x='Physical_Activity', y='Sleep',data=washington)"
   ]
  },
  {
   "cell_type": "code",
   "execution_count": null,
   "id": "e22c2ddd",
   "metadata": {},
   "outputs": [],
   "source": [
    "sns.countplot(x='_AGEG5YR', hue='Diabetes', data=washington, palette=custom_palette)"
   ]
  },
  {
   "cell_type": "markdown",
   "id": "491d1abc",
   "metadata": {},
   "source": [
    "**Variable : Heart_Attack**"
   ]
  },
  {
   "cell_type": "code",
   "execution_count": null,
   "id": "3c001198",
   "metadata": {},
   "outputs": [],
   "source": [
    "washington['Heart_Attack'].value_counts()\n",
    "sns.countplot(x='Heart_Attack', data=washington, palette=custom_palette)"
   ]
  },
  {
   "cell_type": "code",
   "execution_count": null,
   "id": "34072944",
   "metadata": {},
   "outputs": [],
   "source": [
    "washington['Heart_Attack'].value_counts()\n",
    "sns.countplot(x='Heart_Attack', hue='Gender', data=washington, palette=custom_palette)"
   ]
  },
  {
   "cell_type": "code",
   "execution_count": null,
   "id": "6753dba5",
   "metadata": {},
   "outputs": [],
   "source": [
    "washington['Heart_Attack'].value_counts()\n",
    "sns.countplot(x='Heart_Attack', hue='Gender', data=washington, palette=custom_palette)"
   ]
  },
  {
   "cell_type": "code",
   "execution_count": null,
   "id": "aa3a5d26",
   "metadata": {},
   "outputs": [],
   "source": [
    "sns.countplot(x='_AGEG5YR', hue='Heart_Attack', data=washington, palette=custom_palette)"
   ]
  },
  {
   "cell_type": "code",
   "execution_count": null,
   "id": "f6f91732",
   "metadata": {},
   "outputs": [],
   "source": [
    "print(washington['Stress'].value_counts())\n",
    "sns.countplot(x='Stress', data=washington, palette=custom_palette)"
   ]
  },
  {
   "cell_type": "code",
   "execution_count": null,
   "id": "2d75c0f7",
   "metadata": {},
   "outputs": [],
   "source": [
    "washington.drop(washington[(washington['Stress'] == 7) | (washington['Stress'] == 9)].index, inplace=True)\n"
   ]
  },
  {
   "cell_type": "code",
   "execution_count": null,
   "id": "7d759e8a",
   "metadata": {},
   "outputs": [],
   "source": [
    "print(washington['Stress'].value_counts())\n",
    "sns.countplot(x='Stress', hue='Gender', data=washington,palette=custom_palette)"
   ]
  },
  {
   "cell_type": "code",
   "execution_count": null,
   "id": "fd082a78",
   "metadata": {},
   "outputs": [],
   "source": [
    "sns.countplot(x='_AGEG5YR', hue='Stress', data=washington, palette=custom_palette)"
   ]
  },
  {
   "cell_type": "code",
   "execution_count": null,
   "id": "79d7a726",
   "metadata": {},
   "outputs": [],
   "source": [
    "print(washington['Smoking'].value_counts())\n",
    "sns.countplot(x='Smoking', data=washington)"
   ]
  },
  {
   "cell_type": "code",
   "execution_count": null,
   "id": "f6f04a34",
   "metadata": {},
   "outputs": [],
   "source": [
    "print(washington['Smoking'].value_counts())\n",
    "sns.countplot(x='Smoking', data=washington)"
   ]
  },
  {
   "cell_type": "code",
   "execution_count": null,
   "id": "d577216c",
   "metadata": {},
   "outputs": [],
   "source": [
    "washington.drop(washington[(washington['Smoking'] == 9)].index, inplace=True)\n"
   ]
  },
  {
   "cell_type": "code",
   "execution_count": null,
   "id": "bf09c2df",
   "metadata": {},
   "outputs": [],
   "source": [
    "sns.countplot(x='_AGEG5YR', hue='Smoking', data=washington, palette=custom_palette)"
   ]
  },
  {
   "cell_type": "code",
   "execution_count": null,
   "id": "4d3f3d54",
   "metadata": {},
   "outputs": [],
   "source": []
  },
  {
   "cell_type": "code",
   "execution_count": null,
   "id": "a926b962",
   "metadata": {},
   "outputs": [],
   "source": [
    "gender_counts = washington['Gender'].value_counts()\n",
    "\n",
    "# Calculate percentages\n",
    "gender_percentages = (gender_counts / len(washington)) * 100\n",
    "\n",
    "# Display the percentages\n",
    "print(\"Gender Percentages:\")\n",
    "print(gender_percentages)\n"
   ]
  },
  {
   "cell_type": "code",
   "execution_count": null,
   "id": "570119b7",
   "metadata": {},
   "outputs": [],
   "source": [
    "sns.countplot(x='Gender', hue='Smoking', data=washington, palette=custom_palette)"
   ]
  },
  {
   "cell_type": "code",
   "execution_count": null,
   "id": "560ec3c2",
   "metadata": {},
   "outputs": [],
   "source": []
  },
  {
   "cell_type": "code",
   "execution_count": null,
   "id": "3d79e58b",
   "metadata": {},
   "outputs": [],
   "source": [
    "grouped_gender_smoking_counts = washington.groupby('Smoking')['Gender'].value_counts()\n",
    "\n",
    "# Calculate percentages within each smoking category\n",
    "grouped_gender_smoking_percentages = (grouped_gender_smoking_counts / washington.groupby('Smoking')['Gender'].count()) * 100\n",
    "\n",
    "# Display the percentages\n",
    "print(\"Gender Percentages within each Smoking category:\")\n",
    "print(grouped_gender_smoking_percentages)\n"
   ]
  },
  {
   "cell_type": "code",
   "execution_count": null,
   "id": "d31b8ff3",
   "metadata": {},
   "outputs": [],
   "source": [
    "sns.countplot(x='Obesity', hue='Smoking', data=washington, palette=custom_palette)"
   ]
  },
  {
   "cell_type": "code",
   "execution_count": null,
   "id": "ed0b1ab7",
   "metadata": {},
   "outputs": [],
   "source": [
    "grouped_obesity_smoking_counts = washington.groupby('Smoking')['Obesity'].value_counts()\n",
    "\n",
    "# Calculate percentages within each smoking category\n",
    "grouped_obesity_smoking_percentages = (grouped_obesity_smoking_counts / washington.groupby('Smoking')['Obesity'].count()) * 100\n",
    "\n",
    "# Display the percentages\n",
    "print(\"Obesity Percentages within each Smoking category:\")\n",
    "print(grouped_obesity_smoking_percentages)\n"
   ]
  },
  {
   "cell_type": "markdown",
   "id": "c0b8b602",
   "metadata": {},
   "source": [
    "washington['CHD'].value_counts()\n",
    "sns.countplot(x='CHD', data=washington)"
   ]
  },
  {
   "cell_type": "code",
   "execution_count": null,
   "id": "1b263be2",
   "metadata": {},
   "outputs": [],
   "source": [
    "print(washington['Obesity'].value_counts())\n",
    "\n",
    "sns.countplot(x='Obesity', data=washington, palette=custom_palette)"
   ]
  },
  {
   "cell_type": "code",
   "execution_count": null,
   "id": "1a03db47",
   "metadata": {},
   "outputs": [],
   "source": [
    "sns.countplot(x='_AGEG5YR', hue='Obesity', data=washington, palette=custom_palette)"
   ]
  },
  {
   "cell_type": "code",
   "execution_count": null,
   "id": "56dc3430",
   "metadata": {},
   "outputs": [],
   "source": [
    "print(washington['Obesity'].value_counts())\n",
    "\n",
    "sns.countplot(x='Obesity', hue='Gender', data=washington, palette=custom_palette)"
   ]
  },
  {
   "cell_type": "code",
   "execution_count": null,
   "id": "55e57ba4",
   "metadata": {},
   "outputs": [],
   "source": [
    "washington.drop(washington[(washington['Obesity'] == 9)].index, inplace=True)\n"
   ]
  },
  {
   "cell_type": "code",
   "execution_count": null,
   "id": "60d5dd79",
   "metadata": {},
   "outputs": [],
   "source": [
    "print(washington['Physical_Activity'].value_counts())\n",
    "sns.countplot(x='Physical_Activity', data=washington,palette=custom_palette)"
   ]
  },
  {
   "cell_type": "code",
   "execution_count": null,
   "id": "09eabfb8",
   "metadata": {},
   "outputs": [],
   "source": [
    "grouped_gender_phy_counts = washington.groupby('Physical_Activity')['Gender'].value_counts()\n",
    "\n",
    "# Calculate percentages within each smoking category\n",
    "grouped_gender_phy_percentages = (grouped_gender_phy_counts / washington.groupby('Physical_Activity')['Gender'].count()) * 100\n",
    "\n",
    "# Display the percentages\n",
    "print(\"Gender Percentages within each Physical Activity category:\")\n",
    "print(grouped_gender_phy_percentages)\n"
   ]
  },
  {
   "cell_type": "code",
   "execution_count": null,
   "id": "7ce3a5b4",
   "metadata": {},
   "outputs": [],
   "source": []
  },
  {
   "cell_type": "code",
   "execution_count": null,
   "id": "0f5addd1",
   "metadata": {},
   "outputs": [],
   "source": [
    "sns.countplot(x='_AGEG5YR', hue='Physical_Activity', data=washington, palette=custom_palette)"
   ]
  },
  {
   "cell_type": "code",
   "execution_count": null,
   "id": "eb824059",
   "metadata": {},
   "outputs": [],
   "source": [
    "washington.drop(washington[(washington['Physical_Activity'] == 9)].index, inplace=True)"
   ]
  },
  {
   "cell_type": "markdown",
   "id": "e4bfcf18",
   "metadata": {},
   "source": [
    "**Variable : Arthritis**"
   ]
  },
  {
   "cell_type": "code",
   "execution_count": null,
   "id": "026ce333",
   "metadata": {},
   "outputs": [],
   "source": [
    "print(washington['Arthritis'].value_counts())\n",
    "sns.countplot(x='Arthritis', data=washington,palette=custom_palette)"
   ]
  },
  {
   "cell_type": "code",
   "execution_count": null,
   "id": "3d8dfd89",
   "metadata": {},
   "outputs": [],
   "source": [
    "print(washington['_AGEG5YR'].value_counts())\n",
    "sns.countplot(x='_AGEG5YR', data=washington)"
   ]
  },
  {
   "cell_type": "code",
   "execution_count": null,
   "id": "40cf536b",
   "metadata": {},
   "outputs": [],
   "source": [
    "print(washington['Diabetes'].value_counts())\n",
    "sns.countplot(x='Diabetes', data=washington,palette=custom_palette)"
   ]
  },
  {
   "cell_type": "code",
   "execution_count": null,
   "id": "898e6519",
   "metadata": {},
   "outputs": [],
   "source": [
    "sns.countplot(x='_AGEG5YR', hue='Diabetes', data=washington, palette=custom_palette)"
   ]
  },
  {
   "cell_type": "code",
   "execution_count": null,
   "id": "b6b25cbb",
   "metadata": {},
   "outputs": [],
   "source": [
    "sns.countplot(x='Obesity', hue='Diabetes', data=washington, palette=custom_palette)"
   ]
  },
  {
   "cell_type": "code",
   "execution_count": null,
   "id": "70fada79",
   "metadata": {},
   "outputs": [],
   "source": [
    "sns.countplot(x='Physical_Activity', hue='Diabetes', data=washington, palette=custom_palette)"
   ]
  },
  {
   "cell_type": "code",
   "execution_count": null,
   "id": "dc17aa6f",
   "metadata": {},
   "outputs": [],
   "source": [
    "\n",
    "sns.countplot(x='Obesity', hue='Smoking', data=washington, palette=custom_palette)"
   ]
  },
  {
   "cell_type": "code",
   "execution_count": null,
   "id": "2d69baa4",
   "metadata": {},
   "outputs": [],
   "source": []
  },
  {
   "cell_type": "code",
   "execution_count": null,
   "id": "017fb974",
   "metadata": {},
   "outputs": [],
   "source": [
    "washington.drop(washington[(washington['Alcohol_Consumption'] == 7) | (washington['Alcohol_Consumption'] == 9)].index, inplace=True)\n"
   ]
  },
  {
   "cell_type": "code",
   "execution_count": null,
   "id": "0ad45093",
   "metadata": {},
   "outputs": [],
   "source": [
    "sns.countplot(x='Alcohol_Consumption', data=washington, palette=custom_palette)"
   ]
  },
  {
   "cell_type": "code",
   "execution_count": null,
   "id": "a2b1ee37",
   "metadata": {},
   "outputs": [],
   "source": []
  },
  {
   "cell_type": "code",
   "execution_count": null,
   "id": "a7f7c431",
   "metadata": {},
   "outputs": [],
   "source": [
    "sns.countplot(x='Alcohol_Consumption', hue='Smoking', data=washington, palette=custom_palette)"
   ]
  },
  {
   "cell_type": "code",
   "execution_count": null,
   "id": "d9e4eaec",
   "metadata": {},
   "outputs": [],
   "source": [
    "washington['Diabetes'].unique()\n"
   ]
  },
  {
   "cell_type": "code",
   "execution_count": null,
   "id": "73cc9991",
   "metadata": {},
   "outputs": [],
   "source": [
    "washington.drop(washington[(washington['Diabetes'] == 7) | (washington['Diabetes'] == 9)].index, inplace=True)\n"
   ]
  },
  {
   "cell_type": "code",
   "execution_count": null,
   "id": "40b4b90c",
   "metadata": {},
   "outputs": [],
   "source": [
    "washington[\"Diabetes\"] = washington.Diabetes.replace({1: \"Yes\", 2: \"Yes\", 3: \"No\", 4: \"No\" })"
   ]
  },
  {
   "cell_type": "code",
   "execution_count": null,
   "id": "49ee397a",
   "metadata": {},
   "outputs": [],
   "source": [
    "# Correlations\n",
    "#Physical_Activity and Obesity"
   ]
  },
  {
   "cell_type": "markdown",
   "id": "f1f39d35",
   "metadata": {},
   "source": []
  },
  {
   "cell_type": "markdown",
   "id": "bba3b3c3",
   "metadata": {},
   "source": [
    "# Hypothesis\n"
   ]
  },
  {
   "cell_type": "code",
   "execution_count": null,
   "id": "d4c1d0c7",
   "metadata": {},
   "outputs": [],
   "source": [
    "washington.columns"
   ]
  },
  {
   "cell_type": "code",
   "execution_count": null,
   "id": "671fe882",
   "metadata": {},
   "outputs": [],
   "source": [
    "print(washington[\"_RFHLTH\"].value_counts())"
   ]
  },
  {
   "cell_type": "code",
   "execution_count": null,
   "id": "2f1a00bc",
   "metadata": {},
   "outputs": [],
   "source": [
    "washington.drop(washington[(washington['_RFHLTH'] == 9)].index, inplace=True)"
   ]
  },
  {
   "cell_type": "markdown",
   "id": "7b7fd7aa",
   "metadata": {},
   "source": [
    "**Hypothesis 1: Relationship Between Stress and General Health**\n",
    "\n",
    "Null Hypothesis ($H_0$): There is no correlation between stress levels and general health.\n",
    "\n",
    "Alternative Hypothesis ($H_1$): Higher stress levels are associated with poorer general health.\n"
   ]
  },
  {
   "cell_type": "code",
   "execution_count": null,
   "id": "d3c3fda6",
   "metadata": {},
   "outputs": [],
   "source": [
    "# Selecting the relevant columns\n",
    "Stress_fact = washington['Stress']\n",
    "Health_stat = washington['_RFHLTH']\n",
    "\n",
    "# Creating a contingency table\n",
    "contingency_table = pd.crosstab(Stress_fact, Health_stat)\n",
    "\n",
    "# Applying Chi-Square test\n",
    "chi2, p, dof, expected = chi2_contingency(contingency_table)\n",
    "\n",
    "chi2, p, dof, expected"
   ]
  },
  {
   "cell_type": "code",
   "execution_count": null,
   "id": "3e87ca39",
   "metadata": {},
   "outputs": [],
   "source": [
    "contingency_table\n"
   ]
  },
  {
   "cell_type": "markdown",
   "id": "c6d95f44",
   "metadata": {},
   "source": [
    "**Hypothesis 2: Impact of Physical InActivity on Obesity**\n",
    "    \n",
    "Null Hypothesis ($H_0$): Physical activity does not significantly affect obesity status.\n",
    "\n",
    "Alternative Hypothesis ($H_1$): Individuals who are physically inactive are more likely to be obese.\n",
    "\n",
    "Test Type: Chi-Square Test for Independence"
   ]
  },
  {
   "cell_type": "code",
   "execution_count": null,
   "id": "f7dfa4ca",
   "metadata": {},
   "outputs": [],
   "source": [
    "# Selecting the relevant columns\n",
    "Physical_Stat = washington['Physical_InActivity']\n",
    "Obesity_Stat = washington['Obesity']\n",
    "\n",
    "# Creating a contingency table\n",
    "contingency_table1 = pd.crosstab(Physical_Stat, Obesity_Stat)\n",
    "\n",
    "# Applying Chi-Square test\n",
    "chi2, p, dof, expected = chi2_contingency(contingency_table1)\n",
    "\n",
    "chi2, p, dof, expected"
   ]
  },
  {
   "cell_type": "code",
   "execution_count": null,
   "id": "16c5b2f4",
   "metadata": {},
   "outputs": [],
   "source": [
    "contingency_table1"
   ]
  },
  {
   "cell_type": "code",
   "execution_count": null,
   "id": "1ebafe9f",
   "metadata": {},
   "outputs": [],
   "source": [
    "print(washington['Obesity'].value_counts())\n",
    "sns.countplot(x='Obesity',hue='Physical_InActivity', data=washington)"
   ]
  },
  {
   "cell_type": "code",
   "execution_count": null,
   "id": "2902ccdd",
   "metadata": {},
   "outputs": [],
   "source": [
    "# Create a stacked bar graph\n",
    "sns.countplot(data=washington, x='Physical_Activity', hue='Obesity', palette='Set1')\n",
    "\n",
    "# Add labels and a legend\n",
    "plt.xlabel('Physical_Activity')\n",
    "plt.ylabel('Count')\n",
    "plt.title('Bar Graph of Obesity vs. Physical activity')\n",
    "plt.legend(title='Obesity', loc='upper right')\n",
    "\n",
    "# Show the plot\n",
    "plt.show()\n"
   ]
  },
  {
   "cell_type": "markdown",
   "id": "f9d4fb1c",
   "metadata": {},
   "source": [
    "**Hypothesis 3: Smoking and Heart Attack Incidence**\n",
    "\n",
    "Null Hypothesis ($H_0$): Smoking status does not influence the incidence of heart attacks.\n",
    "\n",
    "Alternative Hypothesis ($H_1$): Smokers have a higher incidence of heart attacks compared to non-smokers.\n",
    "\n",
    "Test Type: Chi-Square Test for Independence or Logistic Regression."
   ]
  },
  {
   "cell_type": "code",
   "execution_count": null,
   "id": "fb4f32ad",
   "metadata": {},
   "outputs": [],
   "source": [
    "# Selecting the relevant columns\n",
    "Smoking_Stat = washington['Smoking']\n",
    "Heart_Attack = washington['Heart_Attack']\n",
    "\n",
    "# Creating a contingency table\n",
    "contingency_table2 = pd.crosstab(Smoking_Stat, Heart_Attack)\n",
    "\n",
    "# Applying Chi-Square test\n",
    "chi2, p, dof, expected = chi2_contingency(contingency_table2)\n",
    "\n",
    "chi2, p, dof, expected"
   ]
  },
  {
   "cell_type": "code",
   "execution_count": null,
   "id": "358e19af",
   "metadata": {},
   "outputs": [],
   "source": [
    "contingency_table2"
   ]
  },
  {
   "cell_type": "code",
   "execution_count": null,
   "id": "1d556be5",
   "metadata": {},
   "outputs": [],
   "source": [
    "import seaborn as sns\n",
    "import matplotlib.pyplot as plt\n",
    "\n",
    "# Define a custom color palette with red and black\n",
    "custom_palette = [\"red\", \"black\"]\n",
    "\n",
    "sns.countplot(x='Smoking', hue='Heart_Attack', data=washington, palette=custom_palette)\n",
    "\n",
    "# Show the plot\n",
    "plt.show()\n"
   ]
  },
  {
   "cell_type": "markdown",
   "id": "c25fe5ff",
   "metadata": {},
   "source": [
    "\n",
    "**Hypothesis 4: Influence of Age on Arthritis Prevalence**\n",
    "\n",
    "Null Hypothesis ($H_0$): Age does not have a significant effect on the prevalence of arthritis.\n",
    "\n",
    "Alternative Hypothesis ($H_1$): Older individuals are more likely to suffer from arthritis.\n"
   ]
  },
  {
   "cell_type": "code",
   "execution_count": null,
   "id": "b4d59a89",
   "metadata": {},
   "outputs": [],
   "source": [
    "# Selecting the relevant columns\n",
    "Arthritis_Stat = washington['Arthritis']\n",
    "Age_group = washington['_AGEG5YR']\n",
    "\n",
    "# Creating a contingency table\n",
    "contingency_table5 = pd.crosstab(Arthritis_Stat, Age_group)\n",
    "\n",
    "# Applying Chi-Square test\n",
    "chi2, p, dof, expected = chi2_contingency(contingency_table5)\n",
    "\n",
    "chi2, p, dof, expected"
   ]
  },
  {
   "cell_type": "code",
   "execution_count": null,
   "id": "07949c25",
   "metadata": {},
   "outputs": [],
   "source": [
    "custom_palette = [\"red\", \"black\"]\n",
    "\n",
    "# Use the custom palette in the countplot\n",
    "sns.set(style=\"whitegrid\")  # Optional: Set the style\n",
    "sns.countplot(x='_AGEG5YR', hue='Arthritis', data=washington, palette=custom_palette)\n",
    "\n",
    "# Show the plot\n",
    "plt.show()\n"
   ]
  },
  {
   "cell_type": "code",
   "execution_count": null,
   "id": "6e72d2fc",
   "metadata": {},
   "outputs": [],
   "source": [
    "import matplotlib\n",
    "matplotlib.use('Agg')\n",
    "import matplotlib.pyplot as plt\n",
    "plt.plot([1,2,3])\n",
    "plt.savefig('myfig')"
   ]
  },
  {
   "cell_type": "code",
   "execution_count": null,
   "id": "59dd0d7d",
   "metadata": {},
   "outputs": [],
   "source": [
    "print(washington['Arthritis'].value_counts())\n",
    "sns.countplot(x='Arthritis',hue='Gender', data=washington, palette=custom_palette)"
   ]
  },
  {
   "cell_type": "markdown",
   "id": "5b94aaa9",
   "metadata": {},
   "source": [
    "**Hypothesis 5: Obesity has no impact on Diabetes**\n",
    "    \n",
    "Null Hypothesis ($H_0$): Obesity doesn't have any affect on Diabetes\n",
    "    \n",
    "Alternative Hypothesis ($H_1$): Obesity cause Diabetes.\n",
    "    \n"
   ]
  },
  {
   "cell_type": "code",
   "execution_count": null,
   "id": "587a04c2",
   "metadata": {},
   "outputs": [],
   "source": [
    "# Selecting the relevant columns\n",
    "Dia_Stat = washington['Diabetes']\n",
    "Obs_group = washington['Obesity']\n",
    "\n",
    "# Creating a contingency table\n",
    "contingency_table5 = pd.crosstab(Dia_Stat, Obs_group)\n",
    "\n",
    "# Applying Chi-Square test\n",
    "chi2, p, dof, expected = chi2_contingency(contingency_table5)\n",
    "\n",
    "chi2, p, dof, expected"
   ]
  },
  {
   "cell_type": "markdown",
   "id": "79c71fc7",
   "metadata": {},
   "source": [
    "**Hypothesis 6: Smoking has no impact on Obesity**\n",
    "    \n",
    "Null Hypothesis ($H_0$): Smokinng has no impact on Obesity\n",
    "\n",
    "Alternative Hypothesis ($H_1$): Smoking impacts Obesity.\n",
    "    \n"
   ]
  },
  {
   "cell_type": "code",
   "execution_count": null,
   "id": "d453cdca",
   "metadata": {},
   "outputs": [],
   "source": [
    "# Selecting the relevant columns\n",
    "smk_Stat = washington['Smoking']\n",
    "Obs_group = washington['Obesity']\n",
    "\n",
    "# Creating a contingency table\n",
    "contingency_table6= pd.crosstab(Obs_group,smk_Stat)\n",
    "\n",
    "# Applying Chi-Square test\n",
    "chi2, p, dof, expected = chi2_contingency(contingency_table6)\n",
    "\n",
    "chi2, p, dof, expected"
   ]
  },
  {
   "cell_type": "markdown",
   "id": "0ffdf53f",
   "metadata": {},
   "source": [
    "**Hypothesis 7: Smoking has no impact on Diabetes**\n",
    "    \n",
    "Null Hypothesis ($H_0$): Smoking doesn't have any affect on Diabetes\n",
    "    \n",
    "Alternative Hypothesis ($H_1$): Smoking cause Diabetes.\n",
    "    \n"
   ]
  },
  {
   "cell_type": "code",
   "execution_count": null,
   "id": "93b3b1c8",
   "metadata": {},
   "outputs": [],
   "source": [
    "# Selecting the relevant columns\n",
    "smk_Stat = washington['Smoking']\n",
    "Dia_group = washington['Diabetes']\n",
    "\n",
    "# Creating a contingency table\n",
    "contingency_table7= pd.crosstab(Dia_group,smk_Stat)\n",
    "\n",
    "# Applying Chi-Square test\n",
    "chi2, p, dof, expected = chi2_contingency(contingency_table7)\n",
    "\n",
    "chi2, p, dof, expected"
   ]
  },
  {
   "cell_type": "markdown",
   "id": "d81e82be",
   "metadata": {},
   "source": [
    "# Non-Modifiable Risk Factors:\n",
    "\n",
    "**Age:** The risk of heart attack increases with age. Men over 45 and women over 55 are at higher risk.\n",
    "\n",
    "**Gender:** Men are generally at higher risk for heart attacks than premenopausal women. However, the risk for women increases after menopause, and heart disease is the leading cause of death for both genders.\n",
    "\n",
    "**Family History:** If you have a family history of heart disease or heart attacks, your risk is elevated.\n",
    "\n",
    "**Genetics:** Certain genetic factors can increase susceptibility to heart disease and heart attacks.\n",
    "\n",
    "# Modifiable Risk Factors:\n",
    "\n",
    "**High Blood Pressure (Hypertension):** Elevated blood pressure puts extra strain on the heart and arteries, increasing the risk of heart disease.\n",
    "\n",
    "**High Cholesterol:** High levels of LDL (low-density lipoprotein) cholesterol, often referred to as \"bad\" cholesterol, can lead to the buildup of plaque in the arteries, increasing the risk of blockages.\n",
    "\n",
    "**Smoking:** Smoking is a major risk factor for heart disease. The chemicals in tobacco can damage the heart and blood vessels.\n",
    "\n",
    "**Diabetes:** Uncontrolled diabetes can increase the risk of heart disease due to high blood sugar levels damaging blood vessels and nerves.\n",
    "\n",
    "**Obesity:** Excess body weight, particularly if concentrated around the abdomen, can increase the risk of heart disease.\n",
    "\n",
    "**Physical Inactivity:** A sedentary lifestyle can contribute to obesity and increase the risk of heart disease.\n",
    "\n",
    "**Unhealthy Diet:** A diet high in saturated and trans fats, cholesterol, sodium, and low in fruits, vegetables, and whole grains can raise the risk of heart disease.\n",
    "\n",
    "**Stress:** Chronic stress can contribute to heart disease, possibly through its impact on behaviors like overeating, smoking, or inactivity.\n",
    "\n",
    "**Excessive Alcohol Consumption:** Drinking too much alcohol can raise blood pressure and contribute to heart disease.\n",
    "\n",
    "**Sleep Apnea:** Sleep apnea, a condition characterized by interrupted breathing during sleep, can increase the risk of heart disease.\n",
    "\n",
    "**Drug Abuse:** Illicit drug use, such as cocaine or amphetamines, can trigger heart attacks.\n",
    "\n",
    "**Inflammation:** Conditions associated with chronic inflammation, such as rheumatoid arthritis or lupus, can increase heart attack risk."
   ]
  },
  {
   "cell_type": "code",
   "execution_count": null,
   "id": "9373927f",
   "metadata": {},
   "outputs": [],
   "source": [
    "washington['Heart_Attack'].value_counts()"
   ]
  },
  {
   "cell_type": "code",
   "execution_count": null,
   "id": "90538d3d",
   "metadata": {},
   "outputs": [],
   "source": [
    "washington.drop(washington[washington['Heart_Attack']==7].index,inplace=True)"
   ]
  },
  {
   "cell_type": "code",
   "execution_count": null,
   "id": "2483cefc",
   "metadata": {},
   "outputs": [],
   "source": [
    "washington.drop(washington[washington['Heart_Attack']==9].index,inplace=True)"
   ]
  },
  {
   "cell_type": "code",
   "execution_count": null,
   "id": "e736c8dd",
   "metadata": {},
   "outputs": [],
   "source": [
    "chg_stroke = {2: 0}\n",
    "washington['Heart_Attack'].replace(to_replace=chg_stroke, inplace=True)"
   ]
  },
  {
   "cell_type": "code",
   "execution_count": null,
   "id": "8ea58d26",
   "metadata": {},
   "outputs": [],
   "source": [
    "chg_gender = {1: \"Male\", 2: \"Female\"}\n",
    "washington['Gender'].replace(to_replace=chg_gender, inplace=True)"
   ]
  },
  {
   "cell_type": "code",
   "execution_count": null,
   "id": "a6f9bba9",
   "metadata": {},
   "outputs": [],
   "source": [
    "washington['Obesity'].value_counts()"
   ]
  },
  {
   "cell_type": "code",
   "execution_count": null,
   "id": "1a09db7c",
   "metadata": {},
   "outputs": [],
   "source": [
    "chg_bmi = {2: \"OverWeight\", 1: \"Normal\"}\n",
    "washington['Obesity'].replace(to_replace=chg_bmi, inplace=True)"
   ]
  },
  {
   "cell_type": "code",
   "execution_count": null,
   "id": "5a603e62",
   "metadata": {},
   "outputs": [],
   "source": [
    "chg_smoking = {\"Occasional_Smoker\":2,\"Chain_Smoker\":3, \"Former_Smoker\":1, \"Non_Smoker\":0}\n",
    "washington['Smoking'].replace(to_replace=chg_smoking, inplace=True)"
   ]
  },
  {
   "cell_type": "code",
   "execution_count": null,
   "id": "57b62438",
   "metadata": {},
   "outputs": [],
   "source": [
    "washington['Physical_Activity'].unique()"
   ]
  },
  {
   "cell_type": "code",
   "execution_count": null,
   "id": "3374c3d4",
   "metadata": {},
   "outputs": [],
   "source": [
    "\n",
    "washington[\"Physical_Activity\"] = washington.Physical_Activity.replace({1: \"Yes\", 2: \"No\"})"
   ]
  },
  {
   "cell_type": "code",
   "execution_count": null,
   "id": "e4e23640",
   "metadata": {},
   "outputs": [],
   "source": [
    "washington[\"Stress\"].value_counts()"
   ]
  },
  {
   "cell_type": "code",
   "execution_count": null,
   "id": "0c2a1c4d",
   "metadata": {},
   "outputs": [],
   "source": [
    "chg_stress = {2:0}\n",
    "washington['Stress'].replace(to_replace=chg_stress, inplace=True)"
   ]
  },
  {
   "cell_type": "code",
   "execution_count": null,
   "id": "bf9c69ef",
   "metadata": {},
   "outputs": [],
   "source": [
    "washington[\"Obesity\"].value_counts()"
   ]
  },
  {
   "cell_type": "code",
   "execution_count": null,
   "id": "b40aae7b",
   "metadata": {},
   "outputs": [],
   "source": [
    "washington['Arthritis'].value_counts()"
   ]
  },
  {
   "cell_type": "code",
   "execution_count": null,
   "id": "64f6e247",
   "metadata": {},
   "outputs": [],
   "source": [
    "chg_art = {2:0}\n",
    "washington['Arthritis'].replace(to_replace=chg_art, inplace=True)"
   ]
  },
  {
   "cell_type": "code",
   "execution_count": null,
   "id": "41c0cbbd",
   "metadata": {},
   "outputs": [],
   "source": [
    "washington['Diabetes'].value_counts()"
   ]
  },
  {
   "cell_type": "code",
   "execution_count": null,
   "id": "74c86f26",
   "metadata": {},
   "outputs": [],
   "source": [
    "washington['Smoking'].unique()\n"
   ]
  },
  {
   "cell_type": "code",
   "execution_count": null,
   "id": "f04525f2",
   "metadata": {},
   "outputs": [],
   "source": [
    "washington[\"Smoking\"] = washington['Smoking'].replace({1: \"No\", 0: \"No\", 3: \"Yes\", 2: \"Yes\"})"
   ]
  },
  {
   "cell_type": "code",
   "execution_count": null,
   "id": "ca2f3900",
   "metadata": {},
   "outputs": [],
   "source": [
    "washington[\"Smoking\"] = washington.Smoking.replace({'Former_Smoker': \"No\", 'Non_Smoker': \"No\", 'Chain_Smoker': \"Yes\", 'Occasional_Smoker': \"Yes\"})"
   ]
  },
  {
   "cell_type": "code",
   "execution_count": null,
   "id": "7c521f80",
   "metadata": {},
   "outputs": [],
   "source": [
    "model = sm.GLM.from_formula(\"Heart_Attack ~ Age + Gender\", family=sm.families.Binomial(), data=washington)\n",
    "result = model.fit()\n",
    "result.summary()"
   ]
  },
  {
   "cell_type": "code",
   "execution_count": null,
   "id": "a9b86604",
   "metadata": {},
   "outputs": [],
   "source": [
    "model = sm.GLM.from_formula(\"Heart_Attack ~ Age + Gender + Stress\", family=sm.families.Binomial(), data=washington)\n",
    "result = model.fit()\n",
    "result.summary()"
   ]
  },
  {
   "cell_type": "code",
   "execution_count": null,
   "id": "452b06af",
   "metadata": {},
   "outputs": [],
   "source": [
    "model = sm.GLM.from_formula(\"Heart_Attack ~ Age + Gender + Stress + Physical_Activity\", family=sm.families.Binomial(), data=washington)\n",
    "result = model.fit()\n",
    "result.summary()"
   ]
  },
  {
   "cell_type": "code",
   "execution_count": null,
   "id": "1f4c1fa0",
   "metadata": {},
   "outputs": [],
   "source": [
    "model = sm.GLM.from_formula(\"Heart_Attack ~ Age + Gender + Stress + Physical_Activity + Obesity\", family=sm.families.Binomial(), data=washington)\n",
    "result = model.fit()\n",
    "result.summary()"
   ]
  },
  {
   "cell_type": "code",
   "execution_count": null,
   "id": "1ebe6e04",
   "metadata": {},
   "outputs": [],
   "source": [
    "model = sm.GLM.from_formula(\"Heart_Attack ~ Age + Gender + Stress + Physical_Activity + Obesity + Smoking\", family=sm.families.Binomial(), data=washington)\n",
    "result = model.fit()\n",
    "result.summary()"
   ]
  },
  {
   "cell_type": "code",
   "execution_count": null,
   "id": "bec2821b",
   "metadata": {
    "scrolled": true
   },
   "outputs": [],
   "source": [
    "model = sm.GLM.from_formula(\"Heart_Attack ~ Age + Gender + Stress + Physical_Activity + Obesity + Smoking + Alcohol_Consumption\", family=sm.families.Binomial(), data=washington)\n",
    "result = model.fit()\n",
    "result.summary()"
   ]
  },
  {
   "cell_type": "code",
   "execution_count": null,
   "id": "0ef9fd17",
   "metadata": {},
   "outputs": [],
   "source": [
    "model = sm.GLM.from_formula(\"Heart_Attack ~ Age + Gender + Stress + Physical_Activity + Diabetes + Obesity + Smoking + Alcohol_Consumption\", family=sm.families.Binomial(), data=washington)\n",
    "result = model.fit()\n",
    "result.summary()"
   ]
  },
  {
   "cell_type": "code",
   "execution_count": null,
   "id": "ac6240dd",
   "metadata": {},
   "outputs": [],
   "source": [
    "model = sm.GLM.from_formula(\"Heart_Attack ~ Age + Gender + Physical_Activity + Obesity + Arthritis + Smoking + Alcohol_Consumption + Diabetes + Stress\", family=sm.families.Binomial(), data=washington)\n",
    "result = model.fit()\n",
    "result.summary()"
   ]
  },
  {
   "cell_type": "markdown",
   "id": "45181d79",
   "metadata": {},
   "source": [
    " **Gender:** the male will have 0.83 units greater log odds for heart attack than the female, while holding the other variables in the model fixed. **OR** the males have 2.3 times higher odds of heart attack than females.\n",
    " \n",
    " **Physical_Activity:** The Physically Active people will have 0.4847 units less log odds for heart attack than the Physically Inactive ones **OR** the physically active people will have 0.61 times lower odds of heart attack.\n",
    " \n",
    " **Obesity:** the overweight people have 0.1953 units greater log odds for heart attack than normal people **OR** the overweight people have 1.21 times higher odds of heart attack.\n",
    " \n",
    " **Diabetes:** The diabetic people have 0.7535 greater log odds for heart attack **OR** the diabetic people have 2.12 times higher odds of heart attack.\n",
    " \n",
    " **Age:** With every increase in age by one year the log odd for heart attack increases by 0.0695 units.\n",
    " \n",
    " **Arthritis:** The people suffering from Arthritis have 0.2216 units more log odds than with the people without Arthritis issue.\n",
    " \n",
    " **Smoking:** The Smokers have 0.3344 units greater log odds for heart attack than the non smokers.\n",
    " \n",
    " **Alcohol_Consumption:** The Drinkers have 0.0818 higher log odds than non-drinkers.\n",
    " \n",
    " **Stress:** The people having Stress have 0.4442 more units log odds than those without stress."
   ]
  },
  {
   "cell_type": "code",
   "execution_count": null,
   "id": "404b4c46",
   "metadata": {},
   "outputs": [],
   "source": []
  },
  {
   "cell_type": "code",
   "execution_count": null,
   "id": "b3c09a3b",
   "metadata": {},
   "outputs": [],
   "source": []
  }
 ],
 "metadata": {
  "kernelspec": {
   "display_name": "Python 3 (ipykernel)",
   "language": "python",
   "name": "python3"
  },
  "language_info": {
   "codemirror_mode": {
    "name": "ipython",
    "version": 3
   },
   "file_extension": ".py",
   "mimetype": "text/x-python",
   "name": "python",
   "nbconvert_exporter": "python",
   "pygments_lexer": "ipython3",
   "version": "3.11.5"
  }
 },
 "nbformat": 4,
 "nbformat_minor": 5
}
